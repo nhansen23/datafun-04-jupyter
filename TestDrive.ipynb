{
 "cells": [
  {
   "cell_type": "code",
   "execution_count": 23,
   "id": "c27535ef-78a4-415d-ab3c-96f0dbdac737",
   "metadata": {},
   "outputs": [
    {
     "name": "stdout",
     "output_type": "stream",
     "text": [
      "Hello, Jupyter!\n"
     ]
    }
   ],
   "source": [
    "print(\"Hello, Jupyter!\")"
   ]
  },
  {
   "cell_type": "code",
   "execution_count": 24,
   "id": "a4a64962-a177-4a6a-804a-06e12479cc42",
   "metadata": {},
   "outputs": [
    {
     "data": {
      "text/plain": [
       "4096"
      ]
     },
     "execution_count": 24,
     "metadata": {},
     "output_type": "execute_result"
    }
   ],
   "source": [
    "4 ** 6"
   ]
  },
  {
   "cell_type": "code",
   "execution_count": 25,
   "id": "7952b51b-75e0-4dc4-9f5a-75a7aad2d12f",
   "metadata": {},
   "outputs": [],
   "source": [
    "my_name = \"Nicole\"\n",
    "kids = int(3)"
   ]
  },
  {
   "cell_type": "code",
   "execution_count": 26,
   "id": "31050ab5-acd3-4144-a54c-fc6473f72d02",
   "metadata": {},
   "outputs": [
    {
     "name": "stdout",
     "output_type": "stream",
     "text": [
      "My name is Nicole and I have 3 children.\n"
     ]
    }
   ],
   "source": [
    "print(\"My name is %s and I have %d children.\" % (my_name, kids))"
   ]
  },
  {
   "cell_type": "code",
   "execution_count": 27,
   "id": "410a6527-ac90-49fc-bead-3f203accc250",
   "metadata": {
    "scrolled": true
   },
   "outputs": [],
   "source": [
    "test_scale_scores = list([219, 207, 194, 200, 202, 198, 160, 207, 205, 207])\n",
    "mean_ss = int(sum(test_scale_scores) / len(test_scale_scores))\n",
    "min_ss = min(test_scale_scores)\n",
    "max_ss = max(test_scale_scores)\n"
   ]
  },
  {
   "cell_type": "code",
   "execution_count": 28,
   "id": "94b2388e-9f83-487c-a274-2067c3b4c805",
   "metadata": {},
   "outputs": [
    {
     "name": "stdout",
     "output_type": "stream",
     "text": [
      "The average scale score is 199.\n",
      "The lowest scale score is 160.\n",
      "The highest scale score is 219.\n"
     ]
    }
   ],
   "source": [
    "#test statistics\n",
    "print(f\"The average scale score is {mean_ss}.\")\n",
    "print(f\"The lowest scale score is {min_ss}.\")\n",
    "print(f\"The highest scale score is {max_ss}.\")"
   ]
  },
  {
   "cell_type": "code",
   "execution_count": 29,
   "id": "b30bf79e-2879-4a2a-b62c-e1f375a974a7",
   "metadata": {},
   "outputs": [
    {
     "name": "stdout",
     "output_type": "stream",
     "text": [
      "You scored a 86.0 on your course equivalency exam.\n",
      "You received 1 credit for Social Studies.\n"
     ]
    }
   ],
   "source": [
    "test_percent = float(86)\n",
    "test_subject = \"Social Studies\"\n",
    "print(f\"You scored a {test_percent} on your course equivalency exam.\") \n",
    "if test_percent >= 85.0:\n",
    "    print(f\"You received 1 credit for {test_subject}.\")\n",
    "else:\n",
    "    print(f\"You did not receive credit for {test_subject}.\")"
   ]
  }
 ],
 "metadata": {
  "kernelspec": {
   "display_name": "Python 3 (ipykernel)",
   "language": "python",
   "name": "python3"
  },
  "language_info": {
   "codemirror_mode": {
    "name": "ipython",
    "version": 3
   },
   "file_extension": ".py",
   "mimetype": "text/x-python",
   "name": "python",
   "nbconvert_exporter": "python",
   "pygments_lexer": "ipython3",
   "version": "3.12.1"
  }
 },
 "nbformat": 4,
 "nbformat_minor": 5
}
