{
 "cells": [
  {
   "cell_type": "markdown",
   "metadata": {},
   "source": [
    "'''\n",
    "Module 4 Jupyter Project for Initial Data Analysis\n",
    "Nicole Hansen\n",
    "01/28/2024\n",
    "\n",
    "The purpose of this project is to demonstrate guided exploratory\n",
    "data analysis (EDA) skills with Juptyer\n",
    "'''"
   ]
  },
  {
   "cell_type": "code",
   "execution_count": null,
   "metadata": {},
   "outputs": [],
   "source": [
    "# Import Libraries\n",
    "import matplotlib.pyplot as plt \n",
    "import pandas as pd \n",
    "import seaborn as sns \n",
    "\n",
    "# Load the Iris dataset into DataFrame\n",
    "df = sns.load_dataset('iris')\n",
    "\n",
    "# Inspect first rows of the DataFrame\n",
    "print(df.head())\n",
    "\n",
    "# Initial data inspection\n",
    "print(df.head(10))\n",
    "print(df.shape)\n",
    "print(df.dtypes)\n",
    "\n",
    "# Initial descriptive statistics\n",
    "print(df.describe())\n",
    "\n",
    "# Inspect histogram for petal length\n",
    "df['petal_length'].hist()\n",
    "\n",
    "# Inspect histograms for all numerical columns\n",
    "df.hist()\n",
    "\n",
    "# Show all plots\n",
    "plt.show()"
   ]
  },
  {
   "cell_type": "markdown",
   "metadata": {},
   "source": [
    "# Observations\n",
    "\n",
    "Figure 1:\n",
    "The distribution of petal length shows most petal\n",
    "lengths are between 1 and 2.  There is also a gap\n",
    "in petal length from 2.1 to 2.8.  From 2.8 to 6.9, there\n",
    "is a normal distribution of petal length.\n",
    "\n",
    "Figure 2:\n",
    "This figure shows all four plots.  \n",
    "1) Sepal length is skewed to the left with a few nodes.\n",
    "2) Sepal width shows a fairly normal distribution.\n",
    "3) Petal length: see notes in Figure 1\n",
    "4) Petal width distribution is similar to the petal length distribution\n",
    "\n",
    "\n"
   ]
  },
  {
   "cell_type": "code",
   "execution_count": null,
   "metadata": {},
   "outputs": [],
   "source": [
    "# Inspect value counts by categorical column\n",
    "df['species'].value_counts()\n",
    "\n",
    "# Inspect value counts for all categorical columns\n",
    "for col in df.select_dtypes(include=['object', 'category']).columns:\n",
    "    # Display count plot\n",
    "    sns.countplot(x=col, data=df)\n",
    "    plt.title(f'Distribution of {col}')\n",
    "    plt.show()\n",
    "\n",
    "# Show all plots\n",
    "plt.show()"
   ]
  },
  {
   "cell_type": "markdown",
   "metadata": {},
   "source": [
    "# Observations\n",
    "\n",
    "Figure 3:\n",
    "The number of records for each species is the same: 50\n"
   ]
  },
  {
   "cell_type": "code",
   "execution_count": null,
   "metadata": {},
   "outputs": [],
   "source": [
    "# Data Transformation and Feature Engineering\n",
    "# Rename columns\n",
    "df.rename(columns={'sepal_length': 'Sepal Length'}, inplace=True)\n",
    "df.rename(columns={'sepal_width': 'Sepal Width'}, inplace=True)\n",
    "df.rename(columns={'petal_length': 'Petal Length'}, inplace=True)\n",
    "df.rename(columns={'petal_width': 'Petal Width'}, inplace=True)\n",
    "df.rename(columns={'species': 'Species Name'}, inplace=True)\n",
    "\n",
    "# Add a new column\n",
    "df['Sepal Area'] = df['Sepal Length'] * df['Sepal Width']\n",
    "\n",
    "# Initial visualizations\n",
    "summary_stats = df.describe()\n",
    "print(\"Summary Statistics:\")\n",
    "print(summary_stats)\n",
    "\n",
    "sns.set(style='ticks')\n",
    "sns.pairplot(df, hue='Species Name')\n",
    "plt.show()\n",
    "\n",
    "# Scatterplot 1\n",
    "sns.relplot(df, x='Sepal Length', y='Sepal Width', hue='Species Name')\n",
    "plt.show()"
   ]
  },
  {
   "cell_type": "markdown",
   "metadata": {},
   "source": [
    "# Relationship Between Sepal Length and Sepal Width\n",
    "\n",
    "There is a strong, linear correlation between sepal width\n",
    "and sepal length for the setosa species.\n",
    "\n",
    "The relationship between sepal width and length for versicolor\n",
    "and virginica is not as strong and contains a few outliers.\n"
   ]
  },
  {
   "cell_type": "code",
   "execution_count": null,
   "metadata": {},
   "outputs": [],
   "source": [
    "# Scatterplot 2\n",
    "sns.relplot(df, x='Sepal Width', y='Petal Width', hue='Species Name', style='Species Name')\n",
    "plt.show()"
   ]
  },
  {
   "cell_type": "markdown",
   "metadata": {},
   "source": [
    "# Relationship Between Sepal Width and Petal Width\n",
    "\n",
    "The petal width of setosa is fairly consistent.  The plot\n",
    "shows that the width of the sepal for setosa is not \n",
    "correlated to the width of the petal.\n",
    "\n",
    "There is a positive, linear correlation between \n",
    "sepal width and petal width for the versicolor\n",
    "and virginica species.\n"
   ]
  },
  {
   "cell_type": "code",
   "execution_count": null,
   "metadata": {},
   "outputs": [],
   "source": [
    "# Scatterplot 3\n",
    "sns.relplot(df, x='Petal Width', y='Petal Length', hue='Petal Length', style='Species Name')\n",
    "plt.show()"
   ]
  },
  {
   "cell_type": "markdown",
   "metadata": {},
   "source": [
    "# Relationship Between Petal Width and Petal Length\n",
    "\n",
    "This plot shows that the setosa species has the smallest\n",
    "petal length and petal width of the three species.\n",
    "\n",
    "The plot also shows that as the petal length increases, \n",
    "the petal width increases for both versicolor and virginica.\n",
    "Additionally, we can see that veriginica has the \n",
    "longest and widest petals of the three species.\n"
   ]
  },
  {
   "cell_type": "code",
   "execution_count": null,
   "metadata": {},
   "outputs": [],
   "source": [
    "# Box and Whisker Plots\n",
    "#plt.figure(figsize=(8,4))\n",
    "sns.boxplot(data=df, x='Species Name', y='Sepal Length', palette='Set2')\n",
    "plt.show()"
   ]
  },
  {
   "cell_type": "markdown",
   "metadata": {},
   "source": [
    "# Box Plot of Sepal Length\n",
    "Setosa has the smallest distribution for sepal length of the \n",
    "three species, with virginica having the largest\n",
    "distribution, including an outlier.\n",
    "\n",
    "In general, setosa has the smallest sepal length and \n",
    "virginica has the longest sepal length.\n"
   ]
  }
 ],
 "metadata": {
  "kernelspec": {
   "display_name": "Python 3",
   "language": "python",
   "name": "python3"
  },
  "language_info": {
   "name": "python",
   "version": "3.12.1"
  }
 },
 "nbformat": 4,
 "nbformat_minor": 2
}
